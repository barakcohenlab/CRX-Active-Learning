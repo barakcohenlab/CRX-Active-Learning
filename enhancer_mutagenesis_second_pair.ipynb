{
 "cells": [
  {
   "cell_type": "markdown",
   "id": "9c72cf27-4773-4c52-8d32-2640a09a2aef",
   "metadata": {},
   "source": [
    "# Visualize nucleotide importance score predictions and experimental outcomes of a second mutagenesis pair\n",
    "Required inputs: same as `enhancer_mutagenesis.ipynb`.\n",
    "\n",
    "Outputs:\n",
    "* `swap_combined_barplot_pair_3.svg`: The observed effect of scrambling various parts of the strong enhancer.\n",
    "* `representativePair{StrongEnhancer,Inactive}_pair_3.svg`: Cartoon diagrams of the strong enhancer and inactive sequence.\n",
    "* `saliencyActual{StrongEnhancer,Inactive}_pair_3.svg`: Saliency maps for the two sequences.\n",
    "* `inactiveSwapsCombinedBarplot_pair_3.svg` and `inactiveSwapsCartoons_pair_3.svg`: The observed effect of swapping various parts of the strong enhancer into the inactive sequence and associated cartoons.\n",
    "* `strongEnhancerSlide_RORB_3.svg`: The observed effect of sliding the RORB motif along the strong enhancer.\n",
    "* `strongEnhancerSlideImportance_RORB_Pair_3.svg`: The predicted importance of the RORB motif when it is slid along the strong enhancer."
   ]
  },
  {
   "cell_type": "code",
   "execution_count": 1,
   "id": "6c84d463-7ae6-47f9-a6f4-23b98c6957dd",
   "metadata": {},
   "outputs": [
    {
     "name": "stderr",
     "output_type": "stream",
     "text": [
      "/ref/bclab/software/dlyon/spack/opt/spack/linux-rocky8-x86_64/gcc-8.5.0/miniconda3-4.10.3-2vnv4wet2ju7hlsej5cgneo6trlw7lly/envs/active-learning/lib/python3.9/site-packages/tqdm/auto.py:22: TqdmWarning: IProgress not found. Please update jupyter and ipywidgets. See https://ipywidgets.readthedocs.io/en/stable/user_install.html\n",
      "  from .autonotebook import tqdm as notebook_tqdm\n"
     ]
    }
   ],
   "source": [
    "import os\n",
    "import sys\n",
    "import re\n",
    "import string\n",
    "import numpy as np\n",
    "import pandas as pd\n",
    "import matplotlib as mpl\n",
    "import matplotlib.pyplot as plt\n",
    "import torch\n",
    "import logomaker\n",
    "\n",
    "from src.mpra_tools import deeplift_utils, loaders, predicted_occupancy, plot_utils\n",
    "from src.selene_files.enhancer_resnet_regression import EnhancerResnet\n",
    "\n",
    "data_dir = \"Data\"\n",
    "figures_dir = \"Figures\"\n",
    "plot_utils.set_manuscript_params()"
   ]
  },
  {
   "cell_type": "markdown",
   "id": "8c59df0b-85e9-4da4-9414-7a59744dd80a",
   "metadata": {},
   "source": [
    "Functions copied from `enhancer_mutagenesis.ipynb`."
   ]
  },
  {
   "cell_type": "code",
   "execution_count": 2,
   "id": "c0a947f2-5bf5-4d00-9ce1-e71a473fe9f0",
   "metadata": {},
   "outputs": [],
   "source": [
    "def _decode_block(x):\n",
    "    begin, end = x.split(\"-\")\n",
    "    return (int(begin), int(end))\n",
    "\n",
    "def decode_blocks(coords):\n",
    "    return [_decode_block(x) for x in coords]\n",
    "\n",
    "# Determine if a pair of coordinates are adjacent, and if so, merge them\n",
    "def join_coords(coords):\n",
    "    new_coords = []\n",
    "    begin = coords[0][0]\n",
    "    for i in range(len(coords) - 1):\n",
    "        current = coords[i + 1]\n",
    "        previous = coords[i]\n",
    "        # End of a block!\n",
    "        if previous[1] != current[0]:\n",
    "            new_coords.append((begin, previous[1]))\n",
    "            begin = current[0]\n",
    "            \n",
    "    # Check if we closed off the block\n",
    "    last = coords[-1][1]\n",
    "    if len(new_coords) == 0 or new_coords[-1][1] != coords[-1][1]:\n",
    "        new_coords.append((begin, last))\n",
    "    \n",
    "    return new_coords\n",
    "\n",
    "def coord_string(coords, site_map, offset, max_block_size=None):\n",
    "    shift = coords[0] + offset\n",
    "    if shift in site_map.keys():\n",
    "        tf, strand = site_map[shift].split(\"_\")\n",
    "        result = tf.capitalize() + \"_\" + strand\n",
    "    else:\n",
    "        begin, end = coords\n",
    "        if max_block_size and (end - begin > max_block_size):\n",
    "            result = \"\"\n",
    "        else:\n",
    "            result = f\"[{begin},{end})\"\n",
    "    \n",
    "    return result\n",
    "\n",
    "def decode(encoding, site_map):\n",
    "    coords = re.compile(\"x(\\d+\\-\\d+)\").findall(encoding)\n",
    "    decoded = decode_blocks(coords)\n",
    "    if len(coords) > 1:\n",
    "        decoded = join_coords(decoded)\n",
    "    n = len(decoded)\n",
    "    # Now turn each coordinate into a string\n",
    "    decoded_str = [coord_string(i, site_map, offset=3) for i in decoded]\n",
    "    decoded_str = \",\".join(decoded_str)\n",
    "    # Blocks longer than 20 bp don't get decoded\n",
    "    if len(decoded_str) == 0:\n",
    "        decoded_str = np.nan\n",
    "    \n",
    "    return pd.Series({\n",
    "        \"decoding\": decoded_str,\n",
    "        \"n_blocks\": n,\n",
    "        \"first_start\": decoded[0][0] \n",
    "    })\n",
    "\n",
    "def int_to_lowercase(i):\n",
    "    return chr(i+97)\n",
    "\n",
    "def int_to_uppercase(i):\n",
    "    return chr(i+65)\n",
    "\n",
    "def get_block_coords(block_str):\n",
    "    splitter = list(map(int, block_str.split(\",\")))\n",
    "    # Append the final position to make code easier\n",
    "    splitter.append(164)\n",
    "    block_letter_map = {}\n",
    "    for i, start in enumerate(splitter[:-1]):\n",
    "        block_id = int_to_uppercase(i)\n",
    "        block_letter_map[block_id] = (start, splitter[i+1])\n",
    "    \n",
    "    return pd.Series(block_letter_map)\n",
    "\n",
    "def decode_swapped_block(x, decoder):\n",
    "    return decoder[x]\n",
    "\n",
    "light_blue = (166/255, 206/255, 227/255)\n",
    "dark_blue = (31/255, 120/255, 180/255)\n",
    "light_green = (178/255, 223/255, 138/255)\n",
    "dark_green = (51/255, 160/255, 44/255)\n",
    "\n",
    "def assign_block_type(map, block_coord):\n",
    "    if block_coord[0] in map.keys():\n",
    "        return \"TF\"\n",
    "    else:\n",
    "        return \"block\"\n",
    "\n",
    "def block_in_order(blocks):\n",
    "    # Check if blocks are in alphabetal order\n",
    "    n_blocks = len(blocks.strip(\",\"))\n",
    "    ordered_blocks = string.ascii_lowercase[:n_blocks]\n",
    "    if blocks.strip(\",\").lower() == ordered_blocks:\n",
    "        return True\n",
    "    else:\n",
    "        return False\n",
    "\n",
    "def assign_block_color(block, block_coord, SE_TF_color=(31/255, 120/255, 180/255), SE_block_color=(166/255, 206/255, 227/255), IN_TE_color=(51/255, 160/255, 44/255), IN_block_color=(178/255, 223/255, 138/255)):\n",
    "    if block.isupper() and assign_block_type(block_coord) == \"TF\":\n",
    "        return SE_TF_color\n",
    "    elif block.isupper() and assign_block_type(block_coord) == \"block\":\n",
    "        return SE_block_color\n",
    "    elif block.islower() and assign_block_type(block_coord) == \"TF\":\n",
    "        return IN_TF_color\n",
    "    elif block.islower() and assign_block_type(block_coord) == \"block\":\n",
    "        return IN_block_color\n",
    "\n",
    "def custom_sort_key(s):\n",
    "    # A customized sorting function to sort swapped sequences\n",
    "    # Rule 1: More uppercase letters should come last\n",
    "    # Rule 2: For the same number of uppercase letters, use the specified letter-wise comparison\n",
    "    n_uppercase = sum(1 for x in s if x.isupper())\n",
    "    return (-n_uppercase, [(-ord(x.lower()), 1 if x.isupper() else 0) for x in s])\n",
    "\n",
    "def sort_blocks(ss):\n",
    "    sorted_ss = sorted(ss, key=custom_sort_key, reverse=True)\n",
    "    return [sorted_ss[-1]] + sorted_ss[:-1]"
   ]
  },
  {
   "cell_type": "code",
   "execution_count": 3,
   "id": "867863cf-3fef-4715-918f-ed03763a69f0",
   "metadata": {},
   "outputs": [
    {
     "name": "stderr",
     "output_type": "stream",
     "text": [
      "/ref/bclab/software/dlyon/spack/opt/spack/linux-rocky8-x86_64/gcc-8.5.0/miniconda3-4.10.3-2vnv4wet2ju7hlsej5cgneo6trlw7lly/envs/active-learning/lib/python3.9/site-packages/torch/nn/modules/lazy.py:175: UserWarning: Lazy modules are a new feature under heavy development so changes to the API or functionality can happen at any moment.\n",
      "  warnings.warn('Lazy modules are a new feature under heavy development '\n"
     ]
    }
   ],
   "source": [
    "## Load CNN model\n",
    "L = 164\n",
    "model = loaders.load_cnn(\n",
    "    os.path.join(\"ModelFitting\", \"CNN_Reg\", \"best_model\", \"best_model.pth.tar\"),\n",
    "    model=EnhancerResnet(L),\n",
    "    eval_mode=True,\n",
    ")\n",
    "blocks = loaders.load_data(\n",
    "    os.path.join(\"Data\", \"Swaps\", \"blocks.txt\"),\n",
    "    index_col=None\n",
    ")\n",
    "swap_coords = loaders.load_data(\n",
    "    os.path.join(\"Data\", \"Swaps\", \"swap_coords.txt\"),\n",
    "    index_col=None,\n",
    ")\n",
    "slide_coords = loaders.load_data(\n",
    "    os.path.join(\"Data\", \"Swaps\", \"slide_coords.txt\"),\n",
    "    index_col=None,\n",
    ")\n",
    "activity_df = loaders.load_data(\n",
    "    os.path.join(data_dir, \"activity_summary_stats_and_metadata.txt\")\n",
    ")\n",
    "swap_pair_mask = activity_df[\"label\"].isin(\n",
    "    pd.concat([swap_coords[\"label\"], slide_coords[\"label\"]])\n",
    ")\n",
    "activity_df = activity_df[swap_pair_mask]\n",
    "sequences = activity_df.set_index(\"label\")[\"sequence\"].drop_duplicates()\n",
    "\n",
    "ewms = predicted_occupancy.read_pwm_to_ewm(\n",
    "    os.path.join(\"Data\", \"Downloaded\", \"eLifeMotifs.meme\")\n",
    ").rename(lambda x: x.split(\"_\")[0])\n",
    "mu = 9"
   ]
  },
  {
   "cell_type": "code",
   "execution_count": 4,
   "id": "caf187b2-9bf4-4fdb-9db0-e43a23fbd6bf",
   "metadata": {},
   "outputs": [
    {
     "name": "stdout",
     "output_type": "stream",
     "text": [
      "chr9-121694789-121694953_CPPE chr7-99397328-99397492_UPPE\n",
      "{78: 'CRX_F', 129: 'RORB_R'}\n",
      "{56: 'RORB_F', 78: 'CRX_F'}\n"
     ]
    },
    {
     "data": {
      "text/html": [
       "<div>\n",
       "<style scoped>\n",
       "    .dataframe tbody tr th:only-of-type {\n",
       "        vertical-align: middle;\n",
       "    }\n",
       "\n",
       "    .dataframe tbody tr th {\n",
       "        vertical-align: top;\n",
       "    }\n",
       "\n",
       "    .dataframe thead th {\n",
       "        text-align: right;\n",
       "    }\n",
       "</style>\n",
       "<table border=\"1\" class=\"dataframe\">\n",
       "  <thead>\n",
       "    <tr style=\"text-align: right;\">\n",
       "      <th></th>\n",
       "      <th>mean</th>\n",
       "      <th>std</th>\n",
       "      <th>count</th>\n",
       "    </tr>\n",
       "    <tr>\n",
       "      <th>decoding</th>\n",
       "      <th></th>\n",
       "      <th></th>\n",
       "      <th></th>\n",
       "    </tr>\n",
       "  </thead>\n",
       "  <tbody>\n",
       "    <tr>\n",
       "      <th>WT</th>\n",
       "      <td>4.022892</td>\n",
       "      <td>1.109304</td>\n",
       "      <td>11</td>\n",
       "    </tr>\n",
       "    <tr>\n",
       "      <th>Crx_F,Rorb_R</th>\n",
       "      <td>1.131526</td>\n",
       "      <td>0.275989</td>\n",
       "      <td>3</td>\n",
       "    </tr>\n",
       "    <tr>\n",
       "      <th>[0,20)</th>\n",
       "      <td>4.648025</td>\n",
       "      <td>0.252313</td>\n",
       "      <td>5</td>\n",
       "    </tr>\n",
       "    <tr>\n",
       "      <th>[10,30)</th>\n",
       "      <td>4.665775</td>\n",
       "      <td>0.248946</td>\n",
       "      <td>5</td>\n",
       "    </tr>\n",
       "    <tr>\n",
       "      <th>[20,40)</th>\n",
       "      <td>4.657025</td>\n",
       "      <td>0.208451</td>\n",
       "      <td>5</td>\n",
       "    </tr>\n",
       "    <tr>\n",
       "      <th>[30,50)</th>\n",
       "      <td>4.512197</td>\n",
       "      <td>0.207067</td>\n",
       "      <td>5</td>\n",
       "    </tr>\n",
       "    <tr>\n",
       "      <th>[40,60)</th>\n",
       "      <td>4.613273</td>\n",
       "      <td>0.176483</td>\n",
       "      <td>5</td>\n",
       "    </tr>\n",
       "    <tr>\n",
       "      <th>[50,70)</th>\n",
       "      <td>4.662436</td>\n",
       "      <td>0.120280</td>\n",
       "      <td>5</td>\n",
       "    </tr>\n",
       "    <tr>\n",
       "      <th>[55,75)</th>\n",
       "      <td>4.519804</td>\n",
       "      <td>0.410746</td>\n",
       "      <td>5</td>\n",
       "    </tr>\n",
       "    <tr>\n",
       "      <th>Crx_F</th>\n",
       "      <td>3.587907</td>\n",
       "      <td>1.964350</td>\n",
       "      <td>3</td>\n",
       "    </tr>\n",
       "    <tr>\n",
       "      <th>[89,109)</th>\n",
       "      <td>4.731132</td>\n",
       "      <td>0.269237</td>\n",
       "      <td>5</td>\n",
       "    </tr>\n",
       "    <tr>\n",
       "      <th>[99,119)</th>\n",
       "      <td>4.510068</td>\n",
       "      <td>0.266509</td>\n",
       "      <td>5</td>\n",
       "    </tr>\n",
       "    <tr>\n",
       "      <th>[106,126)</th>\n",
       "      <td>4.155600</td>\n",
       "      <td>0.224075</td>\n",
       "      <td>5</td>\n",
       "    </tr>\n",
       "    <tr>\n",
       "      <th>Rorb_R</th>\n",
       "      <td>1.343103</td>\n",
       "      <td>1.345348</td>\n",
       "      <td>4</td>\n",
       "    </tr>\n",
       "    <tr>\n",
       "      <th>[143,164)</th>\n",
       "      <td>4.107717</td>\n",
       "      <td>0.408959</td>\n",
       "      <td>5</td>\n",
       "    </tr>\n",
       "  </tbody>\n",
       "</table>\n",
       "</div>"
      ],
      "text/plain": [
       "                  mean       std  count\n",
       "decoding                               \n",
       "WT            4.022892  1.109304     11\n",
       "Crx_F,Rorb_R  1.131526  0.275989      3\n",
       "[0,20)        4.648025  0.252313      5\n",
       "[10,30)       4.665775  0.248946      5\n",
       "[20,40)       4.657025  0.208451      5\n",
       "[30,50)       4.512197  0.207067      5\n",
       "[40,60)       4.613273  0.176483      5\n",
       "[50,70)       4.662436  0.120280      5\n",
       "[55,75)       4.519804  0.410746      5\n",
       "Crx_F         3.587907  1.964350      3\n",
       "[89,109)      4.731132  0.269237      5\n",
       "[99,119)      4.510068  0.266509      5\n",
       "[106,126)     4.155600  0.224075      5\n",
       "Rorb_R        1.343103  1.345348      4\n",
       "[143,164)     4.107717  0.408959      5"
      ]
     },
     "metadata": {},
     "output_type": "display_data"
    },
    {
     "data": {
      "image/png": "[encoded data removed]",
      "text/plain": [
       "<Figure size 342.519x102.756 with 1 Axes>"
      ]
     },
     "metadata": {},
     "output_type": "display_data"
    }
   ],
   "source": [
    "i = 3\n",
    "strong_enhancer_id = blocks[\"strong_enhancer_label\"][i]\n",
    "inactive_id = blocks[\"inactive_label\"][i]\n",
    "block_starts = blocks[\"block_start_coords\"][i]\n",
    "strong_enhancer_wt_seq = sequences[strong_enhancer_id + \"_WT\"]\n",
    "inactive_wt_seq = sequences[inactive_id + \"_WT\"]\n",
    "print(strong_enhancer_id, inactive_id)\n",
    "scramble_coords = swap_coords[\n",
    "    (swap_coords[\"original_seq\"] == strong_enhancer_id) &\\\n",
    "    swap_coords[\"blocks\"].str.contains(\"x\")\n",
    "]\n",
    "# Get a map of the occupied sites\n",
    "strong_site_map = predicted_occupancy.get_occupied_sites_and_tfs(\n",
    "    predicted_occupancy.total_landscape(strong_enhancer_wt_seq, ewms, mu)\n",
    ")\n",
    "print(strong_site_map)\n",
    "\n",
    "# Get the inactive site map\n",
    "inactive_site_map = predicted_occupancy.get_occupied_sites_and_tfs(\n",
    "    predicted_occupancy.total_landscape(inactive_wt_seq, ewms, mu)\n",
    ")\n",
    "print(inactive_site_map)\n",
    "\n",
    "# Put the label on the index to facilitate groupby\n",
    "# Then decode the coordinates into a string\n",
    "coords_decoded = scramble_coords.set_index(\"label\")[\"blocks\"].apply(decode, args=(strong_site_map,))\n",
    "# Add in WT\n",
    "coords_decoded.loc[strong_enhancer_id + \"_WT\"] = [\"WT\", np.inf, np.inf]\n",
    "# Get the measurements\n",
    "cleaned_labels = activity_df[\"label\"].str.removesuffix(\"_v2\").str.removesuffix(\"_v3\")\n",
    "pair_activity_df = activity_df[\n",
    "    activity_df[\"label\"].isin(coords_decoded.index)\n",
    "].set_index(\"label\")\n",
    "# Now rename the index to the string decoding\n",
    "pair_activity_df = pair_activity_df.rename(coords_decoded[\"decoding\"])\n",
    "# Finally, average across replicate measurements\n",
    "scrambled_averaged = pair_activity_df.groupby(\"label\")[\"expression_log2\"].agg([\"mean\", \"std\", \"count\"])\n",
    "\n",
    "# Define a sort order\n",
    "sort_order = coords_decoded.dropna().set_index(\n",
    "    \"decoding\").drop_duplicates().sort_values(\n",
    "    [\"n_blocks\", \"first_start\"], ascending=[False, True]\n",
    ").index\n",
    "scrambled_averaged = scrambled_averaged.loc[sort_order]\n",
    "display(scrambled_averaged)\n",
    "\n",
    "fig, ax = plt.subplots(figsize=plot_utils.get_figsize(0.5, aspect=0.3))\n",
    "ax.bar(\n",
    "    np.arange(len(scrambled_averaged)),\n",
    "    scrambled_averaged[\"mean\"],\n",
    "    yerr=scrambled_averaged[\"std\"],\n",
    "    tick_label=scrambled_averaged.index\n",
    ")\n",
    "ax.axhline(0, color=\"k\")\n",
    "ax.set_xlabel(\"Region Scrambled\")\n",
    "ax.set_ylabel(\"log2 Acivity/Basal\")\n",
    "ax.set_title(\"Strong enhancer\")\n",
    "plot_utils.rotate_ticks(ax.get_xticklabels(), 90)\n",
    "plot_utils.save_fig(fig, os.path.join(figures_dir, f\"swap_combined_barplot_pair_{i}\"))"
   ]
  },
  {
   "cell_type": "code",
   "execution_count": 5,
   "id": "c6c19401-b1f7-449d-8dbd-3ca3ceae80c9",
   "metadata": {},
   "outputs": [
    {
     "data": {
      "image/png": "[encoded data removed]",
      "text/plain": [
       "<Figure size 342.519x34.2519 with 1 Axes>"
      ]
     },
     "metadata": {},
     "output_type": "display_data"
    },
    {
     "data": {
      "image/png": "[encoded data removed]",
      "text/plain": [
       "<Figure size 342.519x34.2519 with 1 Axes>"
      ]
     },
     "metadata": {},
     "output_type": "display_data"
    }
   ],
   "source": [
    "fig, ax = plot_utils.visualize_sequence(\n",
    "    strong_enhancer_wt_seq,\n",
    "    light_blue,\n",
    "    ewms,\n",
    "    mu,\n",
    "    dark_blue,\n",
    "    above_text=strong_enhancer_id,\n",
    ")\n",
    "plot_utils.save_fig(fig, os.path.join(figures_dir, f\"representativePairStrongEnhancer_pair_{i}\"))\n",
    "fig, ax = plot_utils.visualize_sequence(\n",
    "    inactive_wt_seq,\n",
    "    light_green,\n",
    "    ewms,\n",
    "    mu,\n",
    "    dark_green,\n",
    "    above_text=inactive_id,\n",
    ")\n",
    "plot_utils.save_fig(fig, os.path.join(figures_dir, f\"representativePairInactive_pair_{i}\"))"
   ]
  },
  {
   "cell_type": "code",
   "execution_count": 6,
   "id": "04a87d05-feeb-40aa-812d-6d56775558c1",
   "metadata": {},
   "outputs": [
    {
     "data": {
      "image/png": "[encoded data removed]",
      "text/plain": [
       "<Figure size 342.519x68.5038 with 1 Axes>"
      ]
     },
     "metadata": {},
     "output_type": "display_data"
    },
    {
     "data": {
      "image/png": "[encoded data removed]",
      "text/plain": [
       "<Figure size 342.519x68.5038 with 1 Axes>"
      ]
     },
     "metadata": {},
     "output_type": "display_data"
    }
   ],
   "source": [
    "ylims = (-0.5055550932884216, 1.0973039865493774)\n",
    "\n",
    "hypo, actual, pred = deeplift_utils.saliency_map(strong_enhancer_wt_seq, model)\n",
    "fig, ax = plot_utils.plot_deeplift(actual)\n",
    "# print(ax.get_ylim())\n",
    "ax.set_ylim(ylims)\n",
    "# ax.set_title(strong_enhancer_id, x=0.01, y=1, ha=\"left\")\n",
    "plot_utils.save_fig(fig, os.path.join(figures_dir, f\"saliencyActualStrongEnhancer_pair_{i}\"))\n",
    "\n",
    "hypo, actual, pred = deeplift_utils.saliency_map(inactive_wt_seq, model)\n",
    "fig, ax = plot_utils.plot_deeplift(actual)\n",
    "# print(ax.get_ylim())\n",
    "ax.set_ylim(ylims)\n",
    "# ax.set_title(inactive_id, x=0.01, y=1, ha=\"left\")\n",
    "plot_utils.save_fig(fig, os.path.join(figures_dir, f\"saliencyActualInactive_pair_{i}\"))"
   ]
  },
  {
   "cell_type": "code",
   "execution_count": 7,
   "id": "376b4176-032d-4a8f-b474-d09a3125e46f",
   "metadata": {},
   "outputs": [
    {
     "name": "stdout",
     "output_type": "stream",
     "text": [
      "Mapping from block letters to coordinates:\n"
     ]
    },
    {
     "data": {
      "text/plain": [
       "A       (0, 56)\n",
       "B      (56, 67)\n",
       "C      (67, 78)\n",
       "D      (78, 86)\n",
       "E     (86, 129)\n",
       "F    (129, 140)\n",
       "G    (140, 164)\n",
       "dtype: object"
      ]
     },
     "metadata": {},
     "output_type": "display_data"
    },
    {
     "name": "stdout",
     "output_type": "stream",
     "text": [
      "SE_TFs: {'D': 'CRX', 'F': 'RORB'}\n",
      "IN_TFs: {'b': 'RORB', 'd': 'CRX'}\n"
     ]
    }
   ],
   "source": [
    "block_coords = get_block_coords(block_starts)\n",
    "n = len(block_coords)\n",
    "print(\"Mapping from block letters to coordinates:\")\n",
    "display(block_coords)\n",
    "ordered_blocks = string.ascii_lowercase[:n]\n",
    "## Find TF blocks\n",
    "SE_TFs = {x:strong_site_map[block_coords[x][0]].split(\"_\")[0] for x in ordered_blocks.upper() if assign_block_type(strong_site_map, block_coords[x]) == \"TF\"}\n",
    "IN_TFs = {y.lower():inactive_site_map[block_coords[y][0]].split(\"_\")[0] for y in ordered_blocks.upper() if assign_block_type(inactive_site_map, block_coords[y]) == \"TF\"}\n",
    "print(\"SE_TFs:\", SE_TFs)\n",
    "print(\"IN_TFs:\", IN_TFs)"
   ]
  },
  {
   "cell_type": "code",
   "execution_count": 8,
   "id": "c985e1bd-a838-4b58-9ff5-b7a037066f29",
   "metadata": {},
   "outputs": [
    {
     "data": {
      "text/plain": [
       "1049    a,F,c,D,e,f,g\n",
       "1050    A,b,c,d,e,f,g\n",
       "1051    A,b,C,d,e,f,g\n",
       "1052    A,b,C,d,e,f,G\n",
       "1053    A,b,c,d,E,f,g\n",
       "1054    A,b,c,d,E,f,G\n",
       "1055    A,b,c,d,e,f,G\n",
       "1056    a,B,c,d,e,F,g\n",
       "1057    a,b,C,d,e,f,g\n",
       "1058    a,b,C,d,E,f,G\n",
       "1059    a,b,C,d,e,f,G\n",
       "1060    a,b,c,D,e,f,g\n",
       "1061    a,b,c,d,E,f,g\n",
       "1062    a,b,c,d,E,f,G\n",
       "1063    a,b,c,d,e,f,G\n",
       "1105    a,f,c,D,e,F,g\n",
       "1106    a,f,c,d,e,F,g\n",
       "1107    a,F,c,d,e,f,g\n",
       "1108    a,B,c,D,e,F,g\n",
       "1163    a,b,c,d,e,f,g\n",
       "Name: blocks, dtype: object"
      ]
     },
     "execution_count": 8,
     "metadata": {},
     "output_type": "execute_result"
    }
   ],
   "source": [
    "swap_coords[swap_coords[\"original_seq\"] == inactive_id][\"blocks\"]"
   ]
  },
  {
   "cell_type": "code",
   "execution_count": 9,
   "id": "706bd409-43a5-473c-a521-4e2871057bd4",
   "metadata": {},
   "outputs": [],
   "source": [
    "inactive_swaps = swap_coords[swap_coords[\"original_seq\"] == inactive_id]\n",
    "\n",
    "# Only plot the single spacer swaps, or the motif swaps, or the WT sequences. No combinations of spacers\n",
    "inactive_swaps = inactive_swaps[\n",
    "    # Only one block swapped\n",
    "    ((inactive_swaps[\"blocks\"].str.count(\"[A-Z]\") <= 1) & (inactive_swaps[\"blocks\"].str.replace(\",\", \"\").str.lower() == ordered_blocks)) |\\\n",
    "    # Involve motifs\n",
    "    (inactive_swaps[\"blocks\"].str.contains(\"|\".join(SE_TFs)))\n",
    "]"
   ]
  },
  {
   "cell_type": "code",
   "execution_count": 10,
   "id": "957c675e-37b7-459d-b095-e04418691880",
   "metadata": {},
   "outputs": [
    {
     "data": {
      "image/png": "[encoded data removed]",
      "text/plain": [
       "<Figure size 102.756x110.66 with 1 Axes>"
      ]
     },
     "metadata": {},
     "output_type": "display_data"
    }
   ],
   "source": [
    "# Add in the WT strong enhancers as reference\n",
    "inactive_swaps = pd.concat([\n",
    "    inactive_swaps,\n",
    "    swap_coords[swap_coords[\"label\"] == strong_enhancer_id + \"_WT\"]\n",
    "])\n",
    "\n",
    "# Join with activity measurements, only keep the first instance of the SE\n",
    "swaps_activity = activity_df.set_index(\"label\").join(\n",
    "    inactive_swaps.set_index(\"label\").drop(columns=\"original_seq\"),\n",
    "    how=\"inner\",\n",
    ")\n",
    "swaps_activity = swaps_activity[~swaps_activity.index.duplicated(keep=\"first\")]\n",
    "swaps_activity = swaps_activity.reset_index().set_index(\"blocks\")\n",
    "\n",
    "# swaps_activity = swaps_activity.loc[sort_blocks(swaps_activity.index.to_list())]\n",
    "swaps_activity = swaps_activity.loc[[\n",
    "    # WT strong enhancer\n",
    "    \"A,B,C,D,E,F,G\",\n",
    "    # WT inactive\n",
    "    \"a,b,c,d,e,f,g\",\n",
    "    # Spacer swaps\n",
    "    # \"A,b,c,d,e,f,g\",\n",
    "    # \"a,b,C,d,e,f,g\",\n",
    "    # \"a,b,c,d,E,f,g\",\n",
    "    # \"a,b,c,d,e,f,G\",\n",
    "    # Motifs\n",
    "    # \"a,b,c,D,e,f,g\",\n",
    "    \"a,F,c,d,e,f,g\",\n",
    "    # \"a,F,c,D,e,f,g\",\n",
    "    # RORB rearranged\n",
    "    \"a,f,c,d,e,F,g\",\n",
    "    # \"a,B,c,D,e,F,g\",\n",
    "]]\n",
    "\n",
    "swaps_activity = swaps_activity.reset_index().set_index(\"label\")[::-1]\n",
    "\n",
    "fig, ax = plt.subplots(figsize=plot_utils.get_figsize(0.15, 3.5 * len(swaps_activity) / 13))\n",
    "ax.barh(\n",
    "    np.arange(len(swaps_activity)),\n",
    "    swaps_activity[\"expression_log2\"],\n",
    "    xerr=swaps_activity[\"sigma\"],\n",
    "    tick_label=swaps_activity[\"blocks\"]\n",
    ")\n",
    "ax.set_xlabel(\"log2 Activity/Basal\")\n",
    "ax.axvline(0, color=\"k\")\n",
    "#ax.set_xlim((-3.5242497053595088, 4.6484117618096645))\n",
    "ax.set_xticks(np.arange(-2, 5, 2))\n",
    "plot_utils.save_fig(fig, os.path.join(figures_dir, f\"inactiveSwapsCombinedBarplot_pair_{i}\"))"
   ]
  },
  {
   "cell_type": "code",
   "execution_count": 11,
   "id": "d9bfd3a7-9e74-4dbb-bd4b-1109b78da3aa",
   "metadata": {},
   "outputs": [
    {
     "name": "stdout",
     "output_type": "stream",
     "text": [
      "a,b,c,d,e,f,g\n",
      "[]\n",
      "a,F,c,d,e,f,g\n",
      "['F']\n",
      "a,f,c,d,e,F,g\n",
      "['F']\n"
     ]
    },
    {
     "data": {
      "image/png": "[encoded data removed]",
      "text/plain": [
       "<Figure size 342.519x137.008 with 4 Axes>"
      ]
     },
     "metadata": {},
     "output_type": "display_data"
    }
   ],
   "source": [
    "# We reverse the order so that the cartoons are drawn in the same order as the bars above\n",
    "cartoon_swaps = swaps_activity[::-1]\n",
    "nswaps = len(cartoon_swaps)\n",
    "fig, ax_list = plt.subplots(\n",
    "    nrows=nswaps,\n",
    "    sharex=True,\n",
    "    sharey=True,\n",
    "    figsize=plot_utils.get_figsize(0.5, aspect=0.1*nswaps)\n",
    ")\n",
    "for ax, (idx, row) in zip(ax_list, cartoon_swaps.iterrows()):\n",
    "    if row[\"blocks\"].replace(\",\", \"\") == ordered_blocks.upper():\n",
    "        plot_utils.visualize_sequence(\n",
    "            row[\"sequence\"],\n",
    "            light_blue,\n",
    "            ewms,\n",
    "            mu,\n",
    "            dark_blue,\n",
    "            figax=(fig, ax),\n",
    "        )\n",
    "        ax.set_title(row[\"blocks\"], x=-0.01, y=0.2, ha=\"right\")\n",
    "        continue\n",
    "\n",
    "    plot_utils.visualize_sequence(\n",
    "        row[\"sequence\"],\n",
    "        light_green,\n",
    "        ewms,\n",
    "        mu,\n",
    "        dark_green,\n",
    "        figax=(fig, ax),\n",
    "    )\n",
    "    ax.set_title(row[\"blocks\"], x=-0.01, y=0.2, ha=\"right\")\n",
    "    # If a spacer was swapped, draw a light blue box, if a motif was swapped, draw a dark blue box\n",
    "    print(row[\"blocks\"])\n",
    "    match = re.findall(\"[A-Z]\", row[\"blocks\"])\n",
    "    print(match)\n",
    "    if match:\n",
    "        for x in match:\n",
    "            block = x\n",
    "            begin, end = block_coords[block]\n",
    "            ## If a spacer was swapped\n",
    "            if assign_block_type(strong_site_map, block_coords[block]) == \"block\":\n",
    "                ax.axvspan(begin, end, facecolor=light_blue, edgecolor=\"black\", zorder=3)\n",
    "            else:\n",
    "            ## If a motif was swapped\n",
    "                initial_block = ordered_blocks[row[\"blocks\"].replace(\",\", \"\").find(x)].upper()\n",
    "                begin, end = block_coords[initial_block]                \n",
    "                ax.axvspan(begin, end, facecolor=dark_blue, edgecolor=\"black\", zorder=3)\n",
    "                ax.text(np.mean((begin, end)), np.mean(ax.get_ylim()), SE_TFs[x], ha=\"center\", va=\"center\", color=\"white\", rotation=90)\n",
    "    \n",
    "    ax.set_yticks([])\n",
    "    \n",
    "plot_utils.save_fig(fig, os.path.join(figures_dir, f\"inactiveSwapsCartoons_pair_{i}\"))"
   ]
  },
  {
   "cell_type": "code",
   "execution_count": 12,
   "id": "68a58a99-1dc1-4b70-a33f-a225fd01e53e",
   "metadata": {},
   "outputs": [],
   "source": [
    "white = (1., 1., 1.)\n",
    "slide_coords_new = slide_coords[\n",
    "    (slide_coords[\"original_seq\"] == strong_enhancer_id) \n",
    "]\n",
    "slide_coords_new = slide_coords_new.set_index(\"label\").drop(columns = [\"original_seq\"])\n",
    "slide_activity_df = activity_df.set_index(\"label\").join(\n",
    "    slide_coords_new,\n",
    "    how=\"inner\"\n",
    ")\n",
    "slide_activity_df = slide_activity_df.sort_values(by=\"position_moved_to\")"
   ]
  },
  {
   "cell_type": "code",
   "execution_count": 13,
   "id": "b812fdad-0e20-499d-bf9d-e8bec5e42641",
   "metadata": {},
   "outputs": [
    {
     "data": {
      "text/plain": [
       "array(['RORB_129'], dtype=object)"
      ]
     },
     "execution_count": 13,
     "metadata": {},
     "output_type": "execute_result"
    }
   ],
   "source": [
    "slide_activity_df[\"motif_name_and_original_position\"].dropna().unique()"
   ]
  },
  {
   "cell_type": "code",
   "execution_count": 14,
   "id": "38bf6815-83a1-4c6d-923e-d9fec0f89956",
   "metadata": {},
   "outputs": [
    {
     "data": {
      "image/png": "[encoded data removed]",
      "text/plain": [
       "<Figure size 342.519x34.2519 with 1 Axes>"
      ]
     },
     "metadata": {},
     "output_type": "display_data"
    }
   ],
   "source": [
    "slide_groups = slide_activity_df[\"motif_name_and_original_position\"].dropna().unique()\n",
    "\n",
    "for x in slide_groups:\n",
    "    data = slide_activity_df[slide_activity_df[\"motif_name_and_original_position\"] == x]\n",
    "\n",
    "    fig, ax = plt.subplots(figsize=plot_utils.get_figsize(0.5, aspect=0.1))\n",
    "    ax.errorbar(\n",
    "        data[\"position_moved_to\"],\n",
    "        data[\"expression_log2\"],\n",
    "        yerr=data[\"sigma\"],\n",
    "        zorder=1,\n",
    "        fmt=\"o-\",\n",
    "        #color=\"k\"\n",
    "    )\n",
    "    ax.axhline(0, color=\"k\", label=\"Basal\")\n",
    "    ax.axhline(\n",
    "        slide_activity_df.loc[strong_enhancer_id + \"_WT\", \"expression_log2\"].mean(),\n",
    "        color=\"k\",\n",
    "        linestyle=\"--\",\n",
    "        label=\"WT\"\n",
    "    )\n",
    "    fig, ax = plot_utils.visualize_sequence(\n",
    "        strong_enhancer_wt_seq,\n",
    "        white,\n",
    "        ewms,\n",
    "        mu,\n",
    "        dark_blue,\n",
    "        # (31/255, 120/255, 180/255, 50/100),\n",
    "        figax=(fig, ax)\n",
    "    )\n",
    "    ax.set_ylabel(\"Obs.\\nActivity\")\n",
    "    ax.set_xlabel(f\"Position of {x.split('_')[0]} motif\")\n",
    "    # ax.set_xlabel(f\"Position of {x} motif\")\n",
    "    ax.legend(loc=\"upper left\", bbox_to_anchor=(1,1))\n",
    "    plot_utils.save_fig(fig, os.path.join(figures_dir, f\"strongEnhancerSlide_{x}_pair_{i}\"))"
   ]
  },
  {
   "cell_type": "code",
   "execution_count": 15,
   "id": "e583cfae-aa3c-43dc-be04-14e2e431914a",
   "metadata": {},
   "outputs": [],
   "source": [
    "slide_activity_nodup = slide_activity_df.drop_duplicates(subset=\"sequence\")\n",
    "slide_seqs = slide_activity_nodup[\"sequence\"]\n",
    "hypos = []\n",
    "actuals = []\n",
    "actuals_decoded = []\n",
    "preds = []\n",
    "for seq in slide_seqs:\n",
    "    h, a, p = deeplift_utils.saliency_map(seq, model)\n",
    "    hypos.append(np.expand_dims(h, axis=0))\n",
    "    actuals.append(np.expand_dims(a, axis=0))\n",
    "    actuals_decoded.append(\n",
    "        deeplift_utils.actual_saliency_track(seq, model)\n",
    "    )\n",
    "    preds.append(p)\n",
    "    \n",
    "hypos = np.concatenate(hypos, axis=0)\n",
    "actuals = np.concatenate(actuals, axis=0)\n",
    "actuals_decoded = np.array(actuals_decoded)\n",
    "preds = np.array(preds)"
   ]
  },
  {
   "cell_type": "code",
   "execution_count": 16,
   "id": "02fedc58-c398-44e1-8422-d2c256fd6c21",
   "metadata": {},
   "outputs": [
    {
     "data": {
      "image/png": "[encoded data removed]",
      "text/plain": [
       "<Figure size 342.519x34.2519 with 1 Axes>"
      ]
     },
     "metadata": {},
     "output_type": "display_data"
    }
   ],
   "source": [
    "rorb_importance = {}\n",
    "rorb_size = len(ewms[\"RORB\"])\n",
    "\n",
    "for j, variant in slide_activity_nodup.reset_index().iterrows():\n",
    "    start_pos, fiveprime = variant[[\"position_moved_to\", \"is_moved_5prime\"]]\n",
    "    track = actuals_decoded[j]\n",
    "    # If it is the WT position, store separately\n",
    "    if fiveprime is np.nan:\n",
    "        wt_rorb_importance = track[129:129+rorb_size].sum()\n",
    "    else:\n",
    "        start_pos = int(start_pos)\n",
    "        # Find the RORB site\n",
    "        if fiveprime:\n",
    "            rorb_importance[start_pos] = track[start_pos:start_pos+rorb_size].sum()\n",
    "        else:\n",
    "            rorb_importance[start_pos] = track[start_pos-rorb_size:start_pos].sum()\n",
    "\n",
    "rorb_importance = pd.Series(rorb_importance)\n",
    "\n",
    "fig, ax = plt.subplots(figsize=plot_utils.get_figsize(0.5, aspect=0.1))\n",
    "ax.plot(\n",
    "    rorb_importance.index,\n",
    "    rorb_importance,\n",
    "    marker=\"o\",\n",
    "    color=\"blue\",\n",
    "    label=\"RORB\"\n",
    ")\n",
    "ax.axhline(\n",
    "    wt_rorb_importance,\n",
    "    color=\"blue\",\n",
    "    linestyle=\"--\",\n",
    ")\n",
    "plot_utils.visualize_sequence(\n",
    "    strong_enhancer_wt_seq,\n",
    "    white,\n",
    "    ewms,\n",
    "    mu,\n",
    "    dark_blue,\n",
    "    figax=(fig, ax)\n",
    ")\n",
    "ax.set_yticks([0, 4])\n",
    "ax.set_xlabel(\"Position of RORB motif\")\n",
    "ax.set_ylabel(\"Pred.\\nContrib.\")\n",
    "ax.legend(loc=\"upper left\", bbox_to_anchor=(1, 1), frameon=False)\n",
    "plot_utils.save_fig(fig, os.path.join(figures_dir, f\"strongEnhancerSlideImportance_{x}_Pair_{i}\"))"
   ]
  }
 ],
 "metadata": {
  "kernelspec": {
   "display_name": "Python 3 (ipykernel)",
   "language": "python",
   "name": "python3"
  },
  "language_info": {
   "codemirror_mode": {
    "name": "ipython",
    "version": 3
   },
   "file_extension": ".py",
   "mimetype": "text/x-python",
   "name": "python",
   "nbconvert_exporter": "python",
   "pygments_lexer": "ipython3",
   "version": "3.9.16"
  }
 },
 "nbformat": 4,
 "nbformat_minor": 5
}
