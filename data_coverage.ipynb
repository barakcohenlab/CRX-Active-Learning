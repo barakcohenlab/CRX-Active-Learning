{
 "cells": [
  {
   "cell_type": "markdown",
   "id": "98b26b56",
   "metadata": {},
   "source": [
    "# Report frequency of the four classes in various data batches\n",
    "Input: `activity_summary_stats_and_metadata.txt`\n",
    "Output: `dataBatchClassCovg.svg`, a stacked bar plot showing the frequency of each of the four classes (colors) in each batch of data."
   ]
  },
  {
   "cell_type": "code",
   "execution_count": 1,
   "id": "20f86841",
   "metadata": {},
   "outputs": [
    {
     "name": "stderr",
     "output_type": "stream",
     "text": [
      "/ref/bclab/software/ryan/.conda/envs/active-learning/lib/python3.9/site-packages/tqdm/auto.py:22: TqdmWarning: IProgress not found. Please update jupyter and ipywidgets. See https://ipywidgets.readthedocs.io/en/stable/user_install.html\n",
      "  from .autonotebook import tqdm as notebook_tqdm\n"
     ]
    }
   ],
   "source": [
    "import os\n",
    "import sys\n",
    "\n",
    "import numpy as np\n",
    "from scipy import stats\n",
    "import pandas as pd\n",
    "import matplotlib.pyplot as plt\n",
    "from IPython.display import display\n",
    "\n",
    "from src.mpra_tools import loaders, plot_utils, stat_utils\n",
    "\n",
    "figures_dir = \"Figures\"\n",
    "\n",
    "plot_utils.set_manuscript_params()"
   ]
  },
  {
   "cell_type": "code",
   "execution_count": 2,
   "id": "354dcd3d",
   "metadata": {},
   "outputs": [
    {
     "data": {
      "text/html": [
       "<div>\n",
       "<style scoped>\n",
       "    .dataframe tbody tr th:only-of-type {\n",
       "        vertical-align: middle;\n",
       "    }\n",
       "\n",
       "    .dataframe tbody tr th {\n",
       "        vertical-align: top;\n",
       "    }\n",
       "\n",
       "    .dataframe thead th {\n",
       "        text-align: right;\n",
       "    }\n",
       "</style>\n",
       "<table border=\"1\" class=\"dataframe\">\n",
       "  <thead>\n",
       "    <tr style=\"text-align: right;\">\n",
       "      <th>activity_bin</th>\n",
       "      <th>Silencer</th>\n",
       "      <th>Inactive</th>\n",
       "      <th>Weak Enhancer</th>\n",
       "      <th>Strong Enhancer</th>\n",
       "    </tr>\n",
       "    <tr>\n",
       "      <th>data_batch_name</th>\n",
       "      <th></th>\n",
       "      <th></th>\n",
       "      <th></th>\n",
       "      <th></th>\n",
       "    </tr>\n",
       "  </thead>\n",
       "  <tbody>\n",
       "    <tr>\n",
       "      <th>4b</th>\n",
       "      <td>0.629152</td>\n",
       "      <td>0.208882</td>\n",
       "      <td>0.118542</td>\n",
       "      <td>0.043424</td>\n",
       "    </tr>\n",
       "    <tr>\n",
       "      <th>4a</th>\n",
       "      <td>0.477082</td>\n",
       "      <td>0.254409</td>\n",
       "      <td>0.192530</td>\n",
       "      <td>0.075979</td>\n",
       "    </tr>\n",
       "    <tr>\n",
       "      <th>3</th>\n",
       "      <td>0.100384</td>\n",
       "      <td>0.175777</td>\n",
       "      <td>0.240053</td>\n",
       "      <td>0.483785</td>\n",
       "    </tr>\n",
       "    <tr>\n",
       "      <th>2</th>\n",
       "      <td>0.111257</td>\n",
       "      <td>0.235079</td>\n",
       "      <td>0.381937</td>\n",
       "      <td>0.271728</td>\n",
       "    </tr>\n",
       "    <tr>\n",
       "      <th>1</th>\n",
       "      <td>0.144386</td>\n",
       "      <td>0.354319</td>\n",
       "      <td>0.332470</td>\n",
       "      <td>0.168825</td>\n",
       "    </tr>\n",
       "    <tr>\n",
       "      <th>Random</th>\n",
       "      <td>0.227309</td>\n",
       "      <td>0.323599</td>\n",
       "      <td>0.223836</td>\n",
       "      <td>0.225257</td>\n",
       "    </tr>\n",
       "  </tbody>\n",
       "</table>\n",
       "</div>"
      ],
      "text/plain": [
       "activity_bin     Silencer  Inactive  Weak Enhancer  Strong Enhancer\n",
       "data_batch_name                                                    \n",
       "4b               0.629152  0.208882       0.118542         0.043424\n",
       "4a               0.477082  0.254409       0.192530         0.075979\n",
       "3                0.100384  0.175777       0.240053         0.483785\n",
       "2                0.111257  0.235079       0.381937         0.271728\n",
       "1                0.144386  0.354319       0.332470         0.168825\n",
       "Random           0.227309  0.323599       0.223836         0.225257"
      ]
     },
     "metadata": {},
     "output_type": "display_data"
    },
    {
     "data": {
      "image/png": "[encoded data removed]",
      "text/plain": [
       "<Figure size 239.763x148.174 with 1 Axes>"
      ]
     },
     "metadata": {},
     "output_type": "display_data"
    }
   ],
   "source": [
    "activity_df = loaders.load_data(os.path.join(\"Data\", \"activity_summary_stats_and_metadata.txt\"))\n",
    "\n",
    "# Rename the groups for display and group round 3a (37%) and 3b into one\n",
    "replacements = {\n",
    "    \"CrxMotifMutant\": \"CRX Motif Muts.\",\n",
    "    \"Round2\": \"2\",\n",
    "    \"Round3c\": \"Random\",\n",
    "    \"Round3a\": \"3\",\n",
    "    \"Round3b\": \"3\",\n",
    "    \"Round4a\": \"4a\",\n",
    "    \"Round4b\": \"4b\",\n",
    "    \"WeakEnhancer\": \"Weak Enhancer\",\n",
    "    \"StrongEnhancer\": \"Strong Enhancer\"\n",
    "}\n",
    "\n",
    "activity_renamed_df = activity_df.replace(replacements)\n",
    "group_counts = activity_renamed_df.groupby(\"data_batch_name\")[\"activity_bin\"].value_counts().unstack()\n",
    "# Add together genomic and motif muts to show round 1\n",
    "group_counts.loc[\"1\"] = group_counts.loc[\"Genomic\"] + group_counts.loc[\"CRX Motif Muts.\"]\n",
    "# Normalize\n",
    "group_counts = group_counts.div(group_counts.sum(axis=1), axis=0)\n",
    "row_order = [\n",
    "    # \"Genomic\",\n",
    "    \"Random\",\n",
    "    \"1\",\n",
    "    \"2\",\n",
    "    \"3\",\n",
    "    \"4a\",\n",
    "    \"4b\",\n",
    "]\n",
    "col_order = [\n",
    "    \"Silencer\",\n",
    "    \"Inactive\",\n",
    "    \"Weak Enhancer\",\n",
    "    \"Strong Enhancer\"\n",
    "]\n",
    "group_counts = group_counts.loc[row_order[::-1], col_order]\n",
    "display(group_counts)\n",
    "fig, ax = plt.subplots(figsize=plot_utils.get_figsize(0.35))\n",
    "fig = plot_utils.stacked_bar_plots(\n",
    "    group_counts,\n",
    "    \"Fraction of New Data Batch\",\n",
    "    group_counts.index,\n",
    "    plot_utils.get_class_colors().values,\n",
    "    figax=(fig, ax),\n",
    "    legend_upper_left=(1, 1)\n",
    ")\n",
    "ax.set_title(\"Distribution of Classes in New Batches\")\n",
    "ax.get_legend().set_frame_on(False)\n",
    "plot_utils.save_fig(fig, os.path.join(figures_dir, \"dataBatchClassCovg\"))"
   ]
  },
  {
   "cell_type": "code",
   "execution_count": 3,
   "id": "3e20adc7",
   "metadata": {},
   "outputs": [
    {
     "data": {
      "text/plain": [
       "Round4a              59648\n",
       "NOT_TRAINING_DATA    17040\n",
       "Round4b              11169\n",
       "Round3b               7526\n",
       "Round3c               6335\n",
       "Genomic               4658\n",
       "Round3a               4438\n",
       "CrxMotifMutant        4221\n",
       "Round2                3820\n",
       "HighConfidence        2055\n",
       "Name: data_batch_name, dtype: int64"
      ]
     },
     "execution_count": 3,
     "metadata": {},
     "output_type": "execute_result"
    }
   ],
   "source": [
    "activity_df[\"data_batch_name\"].value_counts()"
   ]
  }
 ],
 "metadata": {
  "kernelspec": {
   "display_name": "Python 3 (ipykernel)",
   "language": "python",
   "name": "python3"
  },
  "language_info": {
   "codemirror_mode": {
    "name": "ipython",
    "version": 3
   },
   "file_extension": ".py",
   "mimetype": "text/x-python",
   "name": "python",
   "nbconvert_exporter": "python",
   "pygments_lexer": "ipython3",
   "version": "3.9.16"
  }
 },
 "nbformat": 4,
 "nbformat_minor": 5
}
