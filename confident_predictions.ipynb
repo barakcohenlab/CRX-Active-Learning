{
 "cells": [
  {
   "cell_type": "markdown",
   "id": "92d70b84-bf4f-4d83-a88d-0e3c4a7fa959",
   "metadata": {},
   "source": [
    "# Assessment of model performance for high confidence predictions\n",
    "Required inputs: `activity_summary_stats_and_metadata.txt`\n",
    "Output: `predictedObservedClasses_{confident,random}.svg`, violin plots of the observed activity for high confidence predictions, stratified by their predicted activity. Bonus plot is generated for the randomly sampled sequences, but this figure is not used."
   ]
  },
  {
   "cell_type": "code",
   "execution_count": 1,
   "id": "428bc5f9-cde3-4896-85ac-cab1ce8f7940",
   "metadata": {},
   "outputs": [
    {
     "name": "stderr",
     "output_type": "stream",
     "text": [
      "/ref/bclab/software/ryan/.conda/envs/active-learning/lib/python3.9/site-packages/tqdm/auto.py:22: TqdmWarning: IProgress not found. Please update jupyter and ipywidgets. See https://ipywidgets.readthedocs.io/en/stable/user_install.html\n",
      "  from .autonotebook import tqdm as notebook_tqdm\n"
     ]
    }
   ],
   "source": [
    "import os\n",
    "import sys\n",
    "\n",
    "import numpy as np\n",
    "from scipy import stats\n",
    "import pandas as pd\n",
    "import matplotlib.pyplot as plt\n",
    "from sklearn.metrics import f1_score, confusion_matrix\n",
    "\n",
    "from src.mpra_tools import loaders, plot_utils, modeling\n",
    "from src.selene_files.enhancer_model import EnhancerModel\n",
    "\n",
    "data_dir = \"Data\"\n",
    "figures_dir = \"Figures\"\n",
    "plot_utils.set_manuscript_params()"
   ]
  },
  {
   "cell_type": "markdown",
   "id": "6741e47f-e825-4cf9-9181-25a22823dfec",
   "metadata": {},
   "source": [
    "Load in the data and extract the high confidence and randomly sampled sequences. Also load in the CNN trained through Round 3b to obtain predicted activities. This represents the learning round at which the high confidence predictions were made. Both the high confidence and randomly sampled sequences are scored against this CNN to enable a direct comparison between the two groups."
   ]
  },
  {
   "cell_type": "code",
   "execution_count": 3,
   "id": "63fabf17-d61b-403a-9e21-c2b719bd635b",
   "metadata": {},
   "outputs": [],
   "source": [
    "activity_df = loaders.load_data(\n",
    "    os.path.join(data_dir, \"activity_summary_stats_and_metadata.txt\")\n",
    ")\n",
    "activity_df = activity_df[\n",
    "    activity_df[\"data_batch_name\"].isin([\"HighConfidence\", \"Round3c\"])\n",
    "]\n",
    "model = loaders.load_cnn(\n",
    "    os.path.join(\"ModelFitting\", \"CNN_Clf\", \"Round3bFull\", \"Round3b\", \"1\", \"best_model.pth.tar\"),\n",
    "    EnhancerModel(164, 4)\n",
    ")\n",
    "# Define the sort order for the four activity bins\n",
    "class_sort_order = [\"Silencer\", \"Inactive\", \"WeakEnhancer\", \"StrongEnhancer\"]"
   ]
  },
  {
   "cell_type": "markdown",
   "id": "c9c8fcd4-563e-451b-b6e3-9cc118ede8ba",
   "metadata": {},
   "source": [
    "## Make predictions\n",
    "For each group, make predictions and return the predicted class, the probability, and the entropy (uncertainty) of the predictions."
   ]
  },
  {
   "cell_type": "code",
   "execution_count": 4,
   "id": "722e1758-f332-40b5-ba3f-fcbc620d2e0c",
   "metadata": {},
   "outputs": [],
   "source": [
    "def predict_group(df):\n",
    "    seqs = modeling.one_hot_encode(df[\"sequence\"])\n",
    "    seqs_batched = modeling.batch(seqs)\n",
    "    preds = modeling.cnn_predict_batches(model, seqs_batched)\n",
    "    preds_df = pd.DataFrame(preds, index=df.index, columns=class_sort_order)\n",
    "    # Go from log prob to probability\n",
    "    preds_df = preds_df.apply(np.exp)\n",
    "    results = pd.concat({\n",
    "        \"pred\": preds_df.idxmax(axis=1),\n",
    "        \"prob\": preds_df.max(axis=1),\n",
    "        \"entropy\": preds_df.apply(stats.entropy, base=2, axis=1)\n",
    "    }, axis=1)\n",
    "    return results"
   ]
  },
  {
   "cell_type": "code",
   "execution_count": 5,
   "id": "de0d3d75-ed60-488f-ad19-3d428e0e891a",
   "metadata": {},
   "outputs": [],
   "source": [
    "grouper = activity_df.groupby(\"data_batch_name\", group_keys=True)\n",
    "predictions = grouper.apply(predict_group).rename(\n",
    "    index={\"HighConfidence\": \"Confident\", \"Round3c\": \"Random\"},\n",
    "    level=\"data_batch_name\"\n",
    ")"
   ]
  },
  {
   "cell_type": "markdown",
   "id": "6dcc714a-206e-40bc-8a50-16b92d48bae9",
   "metadata": {},
   "source": [
    "Show differences in the entropy of the two groups."
   ]
  },
  {
   "cell_type": "code",
   "execution_count": 5,
   "id": "04bddd53-557e-4faf-9a6d-990601885b64",
   "metadata": {},
   "outputs": [
    {
     "data": {
      "text/html": [
       "<div>\n",
       "<style scoped>\n",
       "    .dataframe tbody tr th:only-of-type {\n",
       "        vertical-align: middle;\n",
       "    }\n",
       "\n",
       "    .dataframe tbody tr th {\n",
       "        vertical-align: top;\n",
       "    }\n",
       "\n",
       "    .dataframe thead th {\n",
       "        text-align: right;\n",
       "    }\n",
       "</style>\n",
       "<table border=\"1\" class=\"dataframe\">\n",
       "  <thead>\n",
       "    <tr style=\"text-align: right;\">\n",
       "      <th>data_batch_name</th>\n",
       "      <th>Confident</th>\n",
       "      <th>Random</th>\n",
       "    </tr>\n",
       "  </thead>\n",
       "  <tbody>\n",
       "    <tr>\n",
       "      <th>count</th>\n",
       "      <td>2055.000000</td>\n",
       "      <td>6335.000000</td>\n",
       "    </tr>\n",
       "    <tr>\n",
       "      <th>mean</th>\n",
       "      <td>1.240836</td>\n",
       "      <td>1.508402</td>\n",
       "    </tr>\n",
       "    <tr>\n",
       "      <th>std</th>\n",
       "      <td>0.685251</td>\n",
       "      <td>0.548551</td>\n",
       "    </tr>\n",
       "    <tr>\n",
       "      <th>min</th>\n",
       "      <td>0.003388</td>\n",
       "      <td>0.018915</td>\n",
       "    </tr>\n",
       "    <tr>\n",
       "      <th>25%</th>\n",
       "      <td>1.323520</td>\n",
       "      <td>1.192513</td>\n",
       "    </tr>\n",
       "    <tr>\n",
       "      <th>50%</th>\n",
       "      <td>1.587993</td>\n",
       "      <td>1.771754</td>\n",
       "    </tr>\n",
       "    <tr>\n",
       "      <th>75%</th>\n",
       "      <td>1.667596</td>\n",
       "      <td>1.919883</td>\n",
       "    </tr>\n",
       "    <tr>\n",
       "      <th>max</th>\n",
       "      <td>1.960990</td>\n",
       "      <td>1.999917</td>\n",
       "    </tr>\n",
       "  </tbody>\n",
       "</table>\n",
       "</div>"
      ],
      "text/plain": [
       "data_batch_name    Confident       Random\n",
       "count            2055.000000  6335.000000\n",
       "mean                1.240836     1.508402\n",
       "std                 0.685251     0.548551\n",
       "min                 0.003388     0.018915\n",
       "25%                 1.323520     1.192513\n",
       "50%                 1.587993     1.771754\n",
       "75%                 1.667596     1.919883\n",
       "max                 1.960990     1.999917"
      ]
     },
     "metadata": {},
     "output_type": "display_data"
    },
    {
     "data": {
      "text/plain": [
       "Text(0.5, -4.588190444444445, 'Data batch')"
      ]
     },
     "execution_count": 5,
     "metadata": {},
     "output_type": "execute_result"
    },
    {
     "data": {
      "image/png": "[encoded data removed]",
      "text/plain": [
       "<Figure size 171.26x205.511 with 1 Axes>"
      ]
     },
     "metadata": {},
     "output_type": "display_data"
    }
   ],
   "source": [
    "grouper = predictions.groupby(\"data_batch_name\")[\"entropy\"]\n",
    "display(grouper.describe().T)\n",
    "fig = plot_utils.violin_plot_groupby(\n",
    "    grouper,\n",
    "    \"Prediction entropy\",\n",
    "    figax=plt.subplots(figsize=plot_utils.get_figsize(0.25, 1.2)),\n",
    ")\n",
    "ax = fig.axes[0]\n",
    "ax.set_xlabel(\"Data batch\")"
   ]
  },
  {
   "cell_type": "markdown",
   "id": "1730da42-61a5-4c09-a0b1-25a30f7ef3ac",
   "metadata": {},
   "source": [
    "## Now report the accuracy of those predictions"
   ]
  },
  {
   "cell_type": "markdown",
   "id": "10dac93b-3c52-4c7c-835b-2caf3ae8b694",
   "metadata": {},
   "source": [
    "Helper function that takes the predicted labels and observed data, makes a violin plot and reports various measures of accuracy."
   ]
  },
  {
   "cell_type": "code",
   "execution_count": 6,
   "id": "26ec703c-2685-4602-9734-dbdb54fe368f",
   "metadata": {},
   "outputs": [],
   "source": [
    "def plot_report_accuracy(df, preds, title):\n",
    "    print(title)\n",
    "    preds = pd.Categorical(preds, categories=class_sort_order, ordered=True)\n",
    "    grouper = df.groupby(preds)\n",
    "    \n",
    "    fig, ax = plt.subplots(figsize=plot_utils.get_figsize(0.33, 1))\n",
    "    fig = plot_utils.violin_plot_groupby(\n",
    "        grouper[\"expression_log2\"],\n",
    "        \"Observed activity\",\n",
    "        class_names=[\"Silencer\", \"Inactive\", \"Weak\\nenh.\", \"Strong\\nenh.\"],\n",
    "        class_colors=plot_utils.get_class_colors(),\n",
    "        figax=(fig, ax),\n",
    "    )\n",
    "    \n",
    "    # Calculate main accuracy metric\n",
    "    observed_bin = df[\"activity_bin\"]\n",
    "    score = f1_score(\n",
    "        observed_bin,\n",
    "        preds,\n",
    "        average=\"weighted\",\n",
    "    )\n",
    "    \n",
    "    ax.set_xlabel(\"Predicted activity\")\n",
    "    for y in [-1, 1, loaders.get_strong_cutoff()]:\n",
    "        ax.axhline(y, color=\"k\", lw=1, linestyle=\"--\")\n",
    "\n",
    "    # Check a few other metrics of accuracy\n",
    "    print(\"Micro F1 score:\")\n",
    "    print(f1_score(\n",
    "        observed_bin,\n",
    "        preds,\n",
    "        average=\"micro\"\n",
    "    ))\n",
    "    print(\"Weighted F1 score:\")\n",
    "    print(score)\n",
    "    print(\"Macro F1 score:\")\n",
    "    print(f1_score(\n",
    "        observed_bin,\n",
    "        preds,\n",
    "        average=\"macro\"\n",
    "    ))\n",
    "    print(\"Per-class F1 score:\")\n",
    "    print(f1_score(\n",
    "        observed_bin,\n",
    "        preds,\n",
    "        average=None,\n",
    "        labels=class_sort_order,\n",
    "    ))\n",
    "    \n",
    "    confusion = confusion_matrix(observed_bin, preds, normalize=\"all\")\n",
    "    print(\"Confusion matrix:\")\n",
    "    print(confusion)\n",
    "    print(f\"{np.diagonal(confusion).sum() * 100}% are correct (should be same as micro F1).\")\n",
    "    off_by_one = np.diagonal(confusion, offset=1).sum() + np.diagonal(confusion, offset=-1).sum()\n",
    "    print(f\"{off_by_one * 100}% are off by one class.\")\n",
    "    \n",
    "    # Make sure all figures have the same axis\n",
    "    ax.set_ylim((-7.9, 7.3))\n",
    "    \n",
    "    return fig, ax"
   ]
  },
  {
   "cell_type": "code",
   "execution_count": 7,
   "id": "c9d592ec-9583-49f0-8ba0-453b2b1977de",
   "metadata": {},
   "outputs": [
    {
     "name": "stdout",
     "output_type": "stream",
     "text": [
      "Confident\n",
      "Micro F1 score:\n",
      "0.7187347931873479\n",
      "Weighted F1 score:\n",
      "0.7179429231542274\n",
      "Macro F1 score:\n",
      "0.539651371486193\n",
      "Per-class F1 score:\n",
      "[0.92584655 0.2735426  0.29166667 0.66754967]\n",
      "Confusion matrix:\n",
      "[[2.96836983e-02 7.78588808e-03 2.62773723e-02 7.15328467e-02]\n",
      " [4.08759124e-02 5.25547445e-01 6.32603406e-03 2.62773723e-02]\n",
      " [4.86618005e-04 9.73236010e-04 1.22627737e-01 5.83941606e-03]\n",
      " [1.07055961e-02 1.94647202e-03 8.22384428e-02 4.08759124e-02]]\n",
      "71.8734793187348% are correct (should be same as micro F1).\n",
      "14.403892944038931% are off by one class.\n",
      "Random\n",
      "Micro F1 score:\n",
      "0.35690607734806623\n",
      "Weighted F1 score:\n",
      "0.30903544532827\n",
      "Macro F1 score:\n",
      "0.3083037249955413\n",
      "Per-class F1 score:\n",
      "[0.27637722 0.31385745 0.13157895 0.51140129]\n",
      "Confusion matrix:\n",
      "[[0.08097869 0.04072612 0.15201263 0.04988161]\n",
      " [0.07719021 0.04672455 0.0715075  0.03188635]\n",
      " [0.00694554 0.00299921 0.20710339 0.00820837]\n",
      " [0.0273086  0.02036306 0.15406472 0.02209945]]\n",
      "35.690607734806626% are correct (should be same as micro F1).\n",
      "35.469613259668506% are off by one class.\n"
     ]
    },
    {
     "data": {
      "image/png": "[encoded data removed]",
      "text/plain": [
       "<Figure size 226.063x226.063 with 1 Axes>"
      ]
     },
     "metadata": {},
     "output_type": "display_data"
    },
    {
     "data": {
      "image/png": "[encoded data removed]",
      "text/plain": [
       "<Figure size 226.063x226.063 with 1 Axes>"
      ]
     },
     "metadata": {},
     "output_type": "display_data"
    }
   ],
   "source": [
    "for batch, df in predictions.groupby(\"data_batch_name\"):\n",
    "    df = df.reset_index(level=\"data_batch_name\")\n",
    "    # Get the corresponding measurement info\n",
    "    batch_measured = activity_df.loc[df.index]\n",
    "    fig, ax = plot_report_accuracy(batch_measured, df[\"pred\"], batch)\n",
    "    plot_utils.save_fig(fig, os.path.join(figures_dir, f\"predictedObservedClasses_{batch}\"))"
   ]
  }
 ],
 "metadata": {
  "kernelspec": {
   "display_name": "Python 3 (ipykernel)",
   "language": "python",
   "name": "python3"
  },
  "language_info": {
   "codemirror_mode": {
    "name": "ipython",
    "version": 3
   },
   "file_extension": ".py",
   "mimetype": "text/x-python",
   "name": "python",
   "nbconvert_exporter": "python",
   "pygments_lexer": "ipython3",
   "version": "3.9.16"
  }
 },
 "nbformat": 4,
 "nbformat_minor": 5
}
