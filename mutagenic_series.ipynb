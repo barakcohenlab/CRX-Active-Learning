{
 "cells": [
  {
   "cell_type": "markdown",
   "id": "9841c487-375b-45a1-bbe3-dbffbf881c4b",
   "metadata": {},
   "source": [
    "# Comparison of motif importance scores from mutagenic series to observed effects\n",
    "Inputs:\n",
    "* `best_model.pth.tar`: The final regression model.\n",
    "* `activity_summary_stats_and_metadata.txt`\n",
    "* `eLifeMotifs.meme`\n",
    "\n",
    "Outputs:\n",
    "* `mutagenicSeriesRorbImportancePredObsWithEnergy.svg`: Observed effect of mutating individual RORB motifs in the mutagenic series vs. the predicted change in motif importance, colored by the relative motif affinity.\n",
    "* `mutagenicSeriesNonCrxMutants.svg`: Observed effect of mutating individual motifs in WT mutagenic series sequences vs. the predicted change in motif importance."
   ]
  },
  {
   "cell_type": "code",
   "execution_count": 1,
   "id": "b996f632-6bec-4af2-980f-ff920070ddfb",
   "metadata": {},
   "outputs": [
    {
     "name": "stderr",
     "output_type": "stream",
     "text": [
      "/ref/bclab/software/ryan/.conda/envs/active-learning/lib/python3.9/site-packages/tqdm/auto.py:22: TqdmWarning: IProgress not found. Please update jupyter and ipywidgets. See https://ipywidgets.readthedocs.io/en/stable/user_install.html\n",
      "  from .autonotebook import tqdm as notebook_tqdm\n"
     ]
    }
   ],
   "source": [
    "import os\n",
    "import sys\n",
    "import re\n",
    "\n",
    "import numpy as np\n",
    "from scipy import stats\n",
    "import pandas as pd\n",
    "import matplotlib.pyplot as plt\n",
    "import matplotlib.lines as mlines\n",
    "import matplotlib.cm\n",
    "import matplotlib.colors as mcolors\n",
    "\n",
    "from src.mpra_tools import deeplift_utils, fasta_utils, loaders, modeling, predicted_occupancy, plot_utils\n",
    "from src.selene_files.enhancer_resnet_regression import EnhancerResnet\n",
    "\n",
    "plot_utils.set_manuscript_params()\n",
    "\n",
    "data_dir = \"Data\"\n",
    "figures_dir = \"Figures\""
   ]
  },
  {
   "cell_type": "markdown",
   "id": "3a94bb08-9606-435f-a4cb-a72d6ab65db9",
   "metadata": {},
   "source": [
    "Load CNN and necessary tables."
   ]
  },
  {
   "cell_type": "code",
   "execution_count": 2,
   "id": "0dffb000-9832-4fff-b520-666290275743",
   "metadata": {},
   "outputs": [
    {
     "name": "stderr",
     "output_type": "stream",
     "text": [
      "/ref/bclab/software/ryan/.conda/envs/active-learning/lib/python3.9/site-packages/torch/nn/modules/lazy.py:175: UserWarning: Lazy modules are a new feature under heavy development so changes to the API or functionality can happen at any moment.\n",
      "  warnings.warn('Lazy modules are a new feature under heavy development '\n"
     ]
    }
   ],
   "source": [
    "L = 164\n",
    "model = loaders.load_cnn(\n",
    "    os.path.join(\"ModelFitting\", \"CNN_Reg\", \"best_model\", \"best_model.pth.tar\"),\n",
    "    model=EnhancerResnet(L),\n",
    "    eval_mode=True,\n",
    ")\n",
    "\n",
    "activity_df = loaders.load_data(\n",
    "    os.path.join(data_dir, \"activity_summary_stats_and_metadata.txt\")\n",
    ")\n",
    "# Only need the mutagenic series\n",
    "activity_df = activity_df[activity_df[\"test_set\"]]\n",
    "activity_df = activity_df[[\"label\", \"sequence\", \"expression_log2\", \"immediate_precursor\", \"activity_bin\"]]\n",
    "\n",
    "ewms = predicted_occupancy.read_pwm_to_ewm(\n",
    "    os.path.join(data_dir, \"Downloaded\", \"eLifeMotifs.meme\")\n",
    ").rename(lambda x: x.split(\"_\")[0])\n",
    "mu = 9"
   ]
  },
  {
   "cell_type": "markdown",
   "id": "49eb2518-196a-49bc-b7e9-5a4ec015eff9",
   "metadata": {},
   "source": [
    "Get saliency maps. Note that instead of the 4 x 164 map, here we just want the 164bp track."
   ]
  },
  {
   "cell_type": "code",
   "execution_count": 3,
   "id": "2ef4857a-704b-41ab-acff-f2178667dc7a",
   "metadata": {},
   "outputs": [],
   "source": [
    "activity_df[\"saliency_map\"] = activity_df[\"sequence\"].apply(deeplift_utils.actual_saliency_track, args=(model,))"
   ]
  },
  {
   "cell_type": "markdown",
   "id": "77d2bc49-c5ab-4a7a-8c7f-05160dd88f1d",
   "metadata": {},
   "source": [
    "Extract designed mutants from each sequence."
   ]
  },
  {
   "cell_type": "code",
   "execution_count": 4,
   "id": "d15139ac-2496-4585-9b39-48bc5d42c2e4",
   "metadata": {},
   "outputs": [],
   "source": [
    "strand_decoder = {\n",
    "    \"F\": \"+\",\n",
    "    \"R\": \"-\"\n",
    "}\n",
    "\n",
    "# <one-based starting position>d<motif ID>-<strand>\n",
    "def decode_mutation(encoding):\n",
    "    splitter = encoding.split(\"d\")\n",
    "    # Make it zero-based indexing\n",
    "    start = int(splitter[0]) - 1\n",
    "    splitter = splitter[1].split(\"-\")\n",
    "    motif = splitter[0]\n",
    "    strand = strand_decoder[splitter[1]]\n",
    "    return (start, motif, strand)\n",
    "\n",
    "def extract_designed_mutants(key):\n",
    "    splitter = key.split(\"HAND_\")\n",
    "    if len(splitter) == 1:\n",
    "        return []\n",
    "    \n",
    "    splitter = splitter[1].split(\",\")\n",
    "    tags = [i for i in splitter]\n",
    "    # tags = [decode_mutation(i) for i in splitter]\n",
    "    # Make sure motif info is sorted in positional order\n",
    "    # tags = sorted(tags, key = lambda x: x[0])\n",
    "    return tags\n",
    "\n",
    "activity_df[\"motif_tags\"] = activity_df[\"label\"].apply(extract_designed_mutants)"
   ]
  },
  {
   "cell_type": "markdown",
   "id": "e3518bbf-f663-4b05-b747-062a66fc3626",
   "metadata": {},
   "source": [
    "Subset to all designed mutants (i.e. non-WT) and enumerate all possible parental sequences by removing one motif from the list of tags at a time. Keep track of the held-out motif at the same time so we know what the designed perturbation was. Store the result as a list of 2-tuples, where the first value is the list of (n-1) motif tags and the second value is the tag of the held-out motif. Then, [explode](https://pandas.pydata.org/docs/reference/api/pandas.DataFrame.explode.html) on that list so that each (parent, designed mutant) pair becomes its own row. Finally, separate out the parent link from the designed mutant and recode the name of the parent based on the tags."
   ]
  },
  {
   "cell_type": "code",
   "execution_count": 5,
   "id": "8ce9dca2-ebe2-4047-abd0-29469cc47c43",
   "metadata": {},
   "outputs": [],
   "source": [
    "def leave_one_out(tags):\n",
    "    result = []\n",
    "    for i in range(len(tags)):\n",
    "        before = tags[:i]\n",
    "        current = tags[i]\n",
    "        after = tags[i+1:]\n",
    "        \n",
    "        if len(before) == 0:\n",
    "            combined = after\n",
    "        elif len(after) == 0:\n",
    "            combined = before\n",
    "        else:\n",
    "            combined = before + after\n",
    "        \n",
    "        result.append((\n",
    "            combined,\n",
    "            current\n",
    "        ))\n",
    "    \n",
    "    return result\n",
    "\n",
    "def recode_parent(row):\n",
    "    base_name = row[\"immediate_precursor\"]\n",
    "    parent_tags = row[\"parent\"]\n",
    "    \n",
    "    if len(parent_tags) == 0:\n",
    "        return base_name\n",
    "    else:\n",
    "        return base_name + \";HAND_\" + \",\".join(parent_tags)\n",
    "\n",
    "mutant_df = activity_df[activity_df[\"motif_tags\"].apply(len) > 0].copy()\n",
    "mutant_df[\"parent_links\"] = mutant_df[\"motif_tags\"].apply(leave_one_out)\n",
    "mutant_df = mutant_df.explode(\"parent_links\").reset_index()\n",
    "\n",
    "# Separate the parent link from the designed mutant\n",
    "mutant_df[\"parent\"] = mutant_df[\"parent_links\"].apply(lambda x: x[0])\n",
    "mutant_df[\"designed_mutant\"] = mutant_df[\"parent_links\"].apply(lambda x: x[1])\n",
    "mutant_df = mutant_df.drop(columns=\"parent_links\")\n",
    "\n",
    "# Recode the parent\n",
    "mutant_df[\"parent\"] = mutant_df.apply(recode_parent, axis=1)"
   ]
  },
  {
   "cell_type": "markdown",
   "id": "e338c892-7aa6-4a02-8b80-76793a90a22f",
   "metadata": {},
   "source": [
    "Now we have a list of all designed mutants and each of their possible precursors (\"parents\"). Merge this list with the original data to associate the paired measurements."
   ]
  },
  {
   "cell_type": "code",
   "execution_count": 6,
   "id": "4b3279e2-8e72-4cbf-b952-fcc0f12be042",
   "metadata": {},
   "outputs": [
    {
     "name": "stdout",
     "output_type": "stream",
     "text": [
      "There are 45 invalid links out of 1960 total.\n"
     ]
    },
    {
     "data": {
      "text/plain": [
       "array([['chr1-135793436-135793600_CPPE_WT;HAND_137dNRL-R',\n",
       "        'chr1-135793436-135793600_CPPE_WT'],\n",
       "       ['chr1-171232848-171233012_CPPE_WT;HAND_79dCRX-F',\n",
       "        'chr1-171232848-171233012_CPPE_WT'],\n",
       "       ['chr1-191821242-191821406_CPPP_WT;HAND_79dCRX-F',\n",
       "        'chr1-191821242-191821406_CPPP_WT'],\n",
       "       ['chr10-118592761-118592925_CPPE_WT;HAND_108dNRL-R,125dNRL-F',\n",
       "        'chr10-118592761-118592925_CPPE_WT;HAND_125dNRL-F'],\n",
       "       ['chr10-118592761-118592925_CPPE_WT;HAND_108dNRL-R,125dNRL-F',\n",
       "        'chr10-118592761-118592925_CPPE_WT;HAND_108dNRL-R'],\n",
       "       ['chr10-118592761-118592925_CPPE_WT;HAND_108dNRL-R,125dNRL-F,149dCRX-R,152dRORB-F',\n",
       "        'chr10-118592761-118592925_CPPE_WT;HAND_125dNRL-F,149dCRX-R,152dRORB-F'],\n",
       "       ['chr10-118592761-118592925_CPPE_WT;HAND_108dNRL-R,125dNRL-F,149dCRX-R,152dRORB-F',\n",
       "        'chr10-118592761-118592925_CPPE_WT;HAND_108dNRL-R,149dCRX-R,152dRORB-F'],\n",
       "       ['chr10-118592761-118592925_CPPE_WT;HAND_108dNRL-R,125dNRL-F,149dCRX-R,152dRORB-F',\n",
       "        'chr10-118592761-118592925_CPPE_WT;HAND_108dNRL-R,125dNRL-F,152dRORB-F'],\n",
       "       ['chr10-118592761-118592925_CPPE_WT;HAND_108dNRL-R,149dCRX-R,152dRORB-F',\n",
       "        'chr10-118592761-118592925_CPPE_WT;HAND_149dCRX-R,152dRORB-F'],\n",
       "       ['chr10-118592761-118592925_CPPE_WT;HAND_108dNRL-R,149dCRX-R,152dRORB-F',\n",
       "        'chr10-118592761-118592925_CPPE_WT;HAND_108dNRL-R,152dRORB-F']],\n",
       "      dtype=object)"
      ]
     },
     "execution_count": 6,
     "metadata": {},
     "output_type": "execute_result"
    }
   ],
   "source": [
    "linked_df = mutant_df.merge(\n",
    "    activity_df.reset_index(), # Keep the unique ID\n",
    "    how=\"left\",\n",
    "    left_on=\"parent\",\n",
    "    right_on=\"label\",\n",
    "    suffixes=[\"_child\", \"_parent\"]\n",
    ")\n",
    "# Don't need the `parent` column anymore, redundant with the `label_parent` column\n",
    "linked_df = linked_df.drop(columns=\"parent\")\n",
    "\n",
    "# There are some cases where there is no parent -- this is because there\n",
    "# are two overlapping motifs and the scramble of one also kills the other\n",
    "no_parent_mask = linked_df[\"expression_log2_parent\"].isna()\n",
    "print(f\"There are {no_parent_mask.sum()} invalid links out of {len(no_parent_mask)} total.\")\n",
    "linked_df = linked_df[~no_parent_mask]\n",
    "\n",
    "# Decode the motif info\n",
    "linked_df[\"designed_mutant\"] = linked_df[\"designed_mutant\"].apply(decode_mutation)\n",
    "linked_df[\"motif_id\"] = linked_df[\"designed_mutant\"].apply(lambda x: x[1])\n",
    "linked_df[\"motif_strand\"] = linked_df[\"designed_mutant\"].apply(lambda x: x[2])\n",
    "linked_df[\"motif_start\"] = linked_df[\"designed_mutant\"].apply(lambda x: x[0])\n",
    "linked_df[\"motif_stop\"] = linked_df.apply(\n",
    "    lambda x: x[\"motif_start\"] + len(ewms[x[\"motif_id\"]]),\n",
    "    axis=1\n",
    ")\n",
    "\n",
    "# Sanity check\n",
    "assert all(\n",
    "    linked_df[\"immediate_precursor_child\"] ==\\\n",
    "    linked_df[\"immediate_precursor_parent\"].fillna(linked_df[\"label_parent\"])\n",
    ")\n",
    "\n",
    "# Spot check to make sure I did it right\n",
    "linked_df[[\"label_child\", \"label_parent\"]].head(10).values"
   ]
  },
  {
   "cell_type": "markdown",
   "id": "40cc257f-f2cc-4271-8014-cc7edfce0a01",
   "metadata": {},
   "source": [
    "Ok, now that the paired info is linked up, calculate the observed change in activity and also the predicted change in motif importance."
   ]
  },
  {
   "cell_type": "code",
   "execution_count": 7,
   "id": "c3a7b675-d144-4776-a0c5-959bd5faa4df",
   "metadata": {},
   "outputs": [],
   "source": [
    "def get_motif(row, seq_key):\n",
    "    seq = row[seq_key]\n",
    "    motif = seq[row[\"motif_start\"]:row[\"motif_stop\"]]\n",
    "    if row[\"motif_strand\"] == \"-\":\n",
    "        motif = fasta_utils.rev_comp(motif)\n",
    "    return motif\n",
    "\n",
    "linked_df[\"obs_wt_vs_mut\"] = linked_df[\"expression_log2_parent\"] - linked_df[\"expression_log2_child\"]\n",
    "\n",
    "linked_df[\"motif_parent\"] = linked_df.apply(get_motif, axis=1, args=(\"sequence_parent\",))\n",
    "linked_df[\"motif_child\"] = linked_df.apply(get_motif, axis=1, args=(\"sequence_child\",))\n",
    "\n",
    "linked_df[\"importance_parent\"] = linked_df.apply(\n",
    "    lambda x: deeplift_utils.motif_importance(x[\"saliency_map_parent\"], x[\"motif_start\"], x[\"motif_stop\"]),\n",
    "    axis=1\n",
    ")\n",
    "linked_df[\"importance_child\"] = linked_df.apply(\n",
    "    lambda x: deeplift_utils.motif_importance(x[\"saliency_map_child\"], x[\"motif_start\"], x[\"motif_stop\"]),\n",
    "    axis=1\n",
    ")\n",
    "\n",
    "linked_df[\"importance_change\"] = linked_df[\"importance_parent\"] - linked_df[\"importance_child\"]"
   ]
  },
  {
   "cell_type": "markdown",
   "id": "90d9eb9f-07da-47ee-89b1-590b258117ee",
   "metadata": {},
   "source": [
    "Look at the pred vs obs deltas for each motif."
   ]
  },
  {
   "cell_type": "code",
   "execution_count": 8,
   "id": "c42f2f0b-ccaf-4e5e-a27a-45f080c8da23",
   "metadata": {},
   "outputs": [
    {
     "name": "stdout",
     "output_type": "stream",
     "text": [
      "CRX\tPCC = 0.13329704601548792\tSCC = 0.1625001134613072\tn = 1289\n",
      "GFI1\tPCC = 0.2773779151221666\tSCC = 0.2376972705837117\tn = 102\n",
      "MAZ\tPCC = 0.2867521770611499\tSCC = 0.482843137254902\tn = 17\n",
      "NDF1\tPCC = 0.5269810296031892\tSCC = 0.5298387096774194\tn = 31\n",
      "NRL\tPCC = -0.0778947788486564\tSCC = -0.10405399843602091\tn = 90\n",
      "RAX\tPCC = 0.17272274531752596\tSCC = 0.1853941585790148\tn = 128\n",
      "RORB\tPCC = 0.6766450317516497\tSCC = 0.726751610382051\tn = 258\n"
     ]
    },
    {
     "data": {
      "image/png": "[encoded data removed]",
      "text/plain": [
       "<Figure size 137.008x137.008 with 1 Axes>"
      ]
     },
     "metadata": {},
     "output_type": "display_data"
    },
    {
     "data": {
      "image/png": "[encoded data removed]",
      "text/plain": [
       "<Figure size 137.008x137.008 with 1 Axes>"
      ]
     },
     "metadata": {},
     "output_type": "display_data"
    },
    {
     "data": {
      "image/png": "[encoded data removed]",
      "text/plain": [
       "<Figure size 137.008x137.008 with 1 Axes>"
      ]
     },
     "metadata": {},
     "output_type": "display_data"
    },
    {
     "data": {
      "image/png": "[encoded data removed]",
      "text/plain": [
       "<Figure size 137.008x137.008 with 1 Axes>"
      ]
     },
     "metadata": {},
     "output_type": "display_data"
    },
    {
     "data": {
      "image/png": "[encoded data removed]",
      "text/plain": [
       "<Figure size 137.008x137.008 with 1 Axes>"
      ]
     },
     "metadata": {},
     "output_type": "display_data"
    },
    {
     "data": {
      "image/png": "[encoded data removed]",
      "text/plain": [
       "<Figure size 137.008x137.008 with 1 Axes>"
      ]
     },
     "metadata": {},
     "output_type": "display_data"
    },
    {
     "data": {
      "image/png": "[encoded data removed]",
      "text/plain": [
       "<Figure size 137.008x137.008 with 1 Axes>"
      ]
     },
     "metadata": {},
     "output_type": "display_data"
    }
   ],
   "source": [
    "for motif, df in linked_df.groupby(\"motif_id\"):\n",
    "    fig, ax = plt.subplots(figsize=plot_utils.get_figsize(0.2, aspect=1))\n",
    "    fig, ax, corrs = plot_utils.scatter_with_corr(\n",
    "        df[\"importance_change\"],\n",
    "        df[\"obs_wt_vs_mut\"],\n",
    "        r\"$\\Delta$Importance\",\n",
    "        \"Observed log2(WT/MUT)\",\n",
    "        # loc=\"upper left\",\n",
    "        figax=(fig, ax)\n",
    "    )\n",
    "    ax.set_title(f\"{motif} Motif Mutants\")\n",
    "    print(f\"{motif}\\tPCC = {corrs[0]}\\tSCC = {corrs[1]}\\tn = {len(df)}\")"
   ]
  },
  {
   "cell_type": "markdown",
   "id": "7f0ede81-f60a-4bf0-a052-c8f59b18df41",
   "metadata": {},
   "source": [
    "Focus on RORB, color by motif instance."
   ]
  },
  {
   "cell_type": "code",
   "execution_count": 9,
   "id": "9c95712f-fe58-49a6-82bd-0e2206a2a378",
   "metadata": {},
   "outputs": [
    {
     "data": {
      "text/plain": [
       "AAGTAGGTCAC    64\n",
       "AACTAGGCCAA    62\n",
       "AAGTAGGTCAG    36\n",
       "AAGTGGGTCAG    16\n",
       "ATTAAGGTCAT    13\n",
       "AATGAGGTTAA     8\n",
       "ATTGAGGTTAT     8\n",
       "AACTGGGTTAA     7\n",
       "GATGAGGTTAT     4\n",
       "AACTAGGTCAA     4\n",
       "AAGCAGGTCAG     4\n",
       "ATTGAGGTCAA     2\n",
       "AAGGAAATCAT     1\n",
       "GGAAAATTCAT     1\n",
       "AGTAAATGCAT     1\n",
       "ATGAAGAACAT     1\n",
       "AAATAGAACAT     1\n",
       "AACTAGGTCTC     1\n",
       "AAATTGATCAT     1\n",
       "AACTATTTGAG     1\n",
       "ATGAAAAGCAT     1\n",
       "ATGAATTACAT     1\n",
       "GTTGAGGTTAT     1\n",
       "AACGTGTATTG     1\n",
       "AACGTAAAGTC     1\n",
       "TTAAATGACAT     1\n",
       "AAAGTTTGCAT     1\n",
       "ATGAATAGCAT     1\n",
       "AACTAGGTCCA     1\n",
       "AACTAGGTCTG     1\n",
       "AACTGTTAAGT     1\n",
       "AACGGATGTTT     1\n",
       "AACAGATGGTA     1\n",
       "AACTGTGGAGT     1\n",
       "AACGATTAGTT     1\n",
       "AGTGAGGTTAT     1\n",
       "ACTGAGGTTAT     1\n",
       "TATGAGGTTAT     1\n",
       "AGATAGATCAT     1\n",
       "AGAAAATACAT     1\n",
       "AGATGTAACAT     1\n",
       "AACTAGGTCTA     1\n",
       "Name: motif_parent, dtype: int64"
      ]
     },
     "execution_count": 9,
     "metadata": {},
     "output_type": "execute_result"
    }
   ],
   "source": [
    "rorb_df = linked_df[linked_df[\"motif_id\"] == \"RORB\"]\n",
    "rorb_df[\"motif_parent\"].value_counts()"
   ]
  },
  {
   "cell_type": "code",
   "execution_count": 10,
   "id": "ffdfadae-afa9-4a6a-b534-917f32b1e0eb",
   "metadata": {},
   "outputs": [
    {
     "data": {
      "image/png": "[encoded data removed]",
      "text/plain": [
       "<Figure size 137.008x137.008 with 1 Axes>"
      ]
     },
     "metadata": {},
     "output_type": "display_data"
    },
    {
     "data": {
      "image/png": "[encoded data removed]",
      "text/plain": [
       "<Figure size 171.26x137.008 with 2 Axes>"
      ]
     },
     "metadata": {},
     "output_type": "display_data"
    }
   ],
   "source": [
    "# Color by relative free energy\n",
    "ddG = rorb_df[\"motif_parent\"].apply(\n",
    "    # Motif is always on the + strand\n",
    "    lambda x: predicted_occupancy.energy_landscape(x, ewms[\"RORB\"])[0][0]\n",
    ")\n",
    "\n",
    "fig, ax = plt.subplots(figsize=plot_utils.get_figsize(0.2, aspect=1))\n",
    "ax.hist(ddG, bins=\"auto\")\n",
    "ax.set_xlabel(r\"$\\Delta\\Delta$G\")\n",
    "ax.set_ylabel(\"Count\")\n",
    "cutoff = 10\n",
    "ax.axvline(cutoff, color=\"k\", linestyle=\"--\")\n",
    "\n",
    "# Normalize the ddG for display\n",
    "colors = ddG / cutoff\n",
    "colors[colors > 1] = 1\n",
    "# For the purposes of display, flip the mapping (negative ddG)\n",
    "# so that high affinity is shown at the top\n",
    "colors = 1 - colors\n",
    "colors = plot_utils.set_color(colors)\n",
    "\n",
    "fig, ax = plt.subplots(figsize=plot_utils.get_figsize(0.25, aspect=0.8))\n",
    "fig, ax, corrs = plot_utils.scatter_with_corr(\n",
    "    rorb_df[\"importance_change\"],\n",
    "    rorb_df[\"obs_wt_vs_mut\"],\n",
    "    \"$\\Delta$Importance\",\n",
    "    \"Observed log2(WT/MUT)\",\n",
    "    colors = colors,\n",
    "    # loc=\"upper left\",\n",
    "    figax=(fig, ax)\n",
    ")\n",
    "ax.text(\n",
    "    0.98, 0.02,\n",
    "    f\"PCC = {corrs[0]:.3f}\\nn = {len(rorb_df)}\",\n",
    "    ha=\"right\",\n",
    "    va=\"bottom\",\n",
    "    transform=ax.transAxes\n",
    ")\n",
    "\n",
    "ax.set_title(f\"RORB Motif Mutants\")\n",
    "\n",
    "norm = mcolors.Normalize(vmin=0, vmax=1)\n",
    "mapper = matplotlib.cm.ScalarMappable(\n",
    "    cmap=\"viridis\", norm=norm\n",
    ").set_array([])\n",
    "\n",
    "cbar = fig.colorbar(mapper, ax=ax)\n",
    "cbar.set_label(r\"$-\\Delta\\Delta$G\")\n",
    "cbar.set_ticks([0, 1])\n",
    "cbar.set_ticklabels([rf\"$\\leq-${cutoff}\", \"0 (Consensus)\"])\n",
    "\n",
    "plot_utils.save_fig(fig, os.path.join(figures_dir, \"mutagenicSeriesRorbImportancePredObsWithEnergy\"))"
   ]
  },
  {
   "cell_type": "markdown",
   "id": "9f06764a-d797-46e1-a297-49ca9a82f3de",
   "metadata": {},
   "source": [
    "Lastly, focus on all non-CRX single motif mutations from the WT sequences."
   ]
  },
  {
   "cell_type": "code",
   "execution_count": 11,
   "id": "aec4b7e5-5f30-489b-a14d-f14543d6c78f",
   "metadata": {},
   "outputs": [
    {
     "data": {
      "text/plain": [
       "RORB    12\n",
       "RAX      7\n",
       "NRL      5\n",
       "NDF1     3\n",
       "GFI1     3\n",
       "MAZ      2\n",
       "Name: motif_id, dtype: int64"
      ]
     },
     "metadata": {},
     "output_type": "display_data"
    },
    {
     "data": {
      "image/png": "[encoded data removed]",
      "text/plain": [
       "<Figure size 137.008x137.008 with 1 Axes>"
      ]
     },
     "metadata": {},
     "output_type": "display_data"
    }
   ],
   "source": [
    "single_mutants = linked_df[\n",
    "    linked_df[\"label_parent\"].str.contains(\"WT$\") &\\\n",
    "    (linked_df[\"motif_id\"] != \"CRX\")\n",
    "]\n",
    "\n",
    "display(single_mutants[\"motif_id\"].value_counts())\n",
    "\n",
    "marker_map = {\n",
    "    \"RORB\": \"o\", # circle\n",
    "    \"RAX\": \"^\", # up triangle\n",
    "    \"NRL\": \"s\", # square\n",
    "    \"NDF1\": \"d\", # thin diamond\n",
    "    \"GFI1\": \"p\", # pentagon\n",
    "    \"MAZ\": \"*\", # star\n",
    "}\n",
    "\n",
    "color_map = {\n",
    "    \"RORB\": \"#1f78b4\",\n",
    "    \"RAX\": \"#33a02c\",\n",
    "    \"NRL\": \"#e31a1c\",\n",
    "    \"NDF1\": \"#a6cee3\",\n",
    "    \"GFI1\": \"#b2df8a\",\n",
    "    \"MAZ\": \"#fb9a99\",\n",
    "}\n",
    "\n",
    "\n",
    "fig, ax = plt.subplots(figsize=plot_utils.get_figsize(0.2, aspect=1))\n",
    "\n",
    "for motif, df in single_mutants.groupby(\"motif_id\"):\n",
    "    ax.scatter(\n",
    "        df[\"importance_change\"],\n",
    "        df[\"obs_wt_vs_mut\"],\n",
    "        marker=marker_map[motif],\n",
    "        color=color_map[motif],\n",
    "        edgecolors=\"k\",\n",
    "        s=8,\n",
    "        label=motif,\n",
    "    )\n",
    "    \n",
    "ax.set_xlabel(\"$\\Delta$Importance\")\n",
    "ax.set_ylabel(\"Observed log2(WT/MUT)\")\n",
    "ax.legend(\n",
    "    loc=\"upper left\",\n",
    "    bbox_to_anchor=(1, 1),\n",
    "    # frameon=False,\n",
    "    title=\"Motif\"\n",
    ")\n",
    "\n",
    "pcc, _ = stats.pearsonr(\n",
    "    single_mutants[\"importance_change\"],\n",
    "    single_mutants[\"obs_wt_vs_mut\"]\n",
    ")\n",
    "n = len(single_mutants)\n",
    "ax.text(\n",
    "    0.98, 0.02,\n",
    "    f\"PCC = {pcc:.3f}\\nn = {n}\",\n",
    "    ha=\"right\",\n",
    "    va=\"bottom\",\n",
    "    transform=ax.transAxes\n",
    ")\n",
    "\n",
    "ax.set_title(\"Non-CRX Motif Mutants\")\n",
    "plot_utils.save_fig(fig, os.path.join(figures_dir, \"mutagenicSeriesNonCrxMutants\"))"
   ]
  },
  {
   "cell_type": "code",
   "execution_count": null,
   "id": "3b6bb169-3939-4cc7-8967-67ed7ab8825f",
   "metadata": {},
   "outputs": [],
   "source": []
  }
 ],
 "metadata": {
  "kernelspec": {
   "display_name": "Python 3 (ipykernel)",
   "language": "python",
   "name": "python3"
  },
  "language_info": {
   "codemirror_mode": {
    "name": "ipython",
    "version": 3
   },
   "file_extension": ".py",
   "mimetype": "text/x-python",
   "name": "python",
   "nbconvert_exporter": "python",
   "pygments_lexer": "ipython3",
   "version": "3.9.16"
  }
 },
 "nbformat": 4,
 "nbformat_minor": 5
}
